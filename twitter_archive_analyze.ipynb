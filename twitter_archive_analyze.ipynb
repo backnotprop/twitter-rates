{
 "cells": [
  {
   "cell_type": "markdown",
   "metadata": {},
   "source": [
    "## Twitter Archive"
   ]
  },
  {
   "cell_type": "code",
   "execution_count": 5,
   "metadata": {},
   "outputs": [],
   "source": [
    "%matplotlib inline\n",
    "from IPython.core.pylabtools import figsize\n",
    "from datetime import datetime, timedelta\n",
    "from matplotlib import pyplot as plt\n",
    "from functools import reduce\n",
    "import numpy as np\n",
    "import scipy.stats as stats\n",
    "import pymc3 as pm\n",
    "import theano.tensor as tt\n",
    "import csv"
   ]
  },
  {
   "cell_type": "markdown",
   "metadata": {},
   "source": [
    "Twitter Archive includes a csv of tweets, so we'll use that\n",
    "\n",
    "##### Load and Simple Cleanse "
   ]
  },
  {
   "cell_type": "code",
   "execution_count": 6,
   "metadata": {},
   "outputs": [
    {
     "name": "stdout",
     "output_type": "stream",
     "text": [
      "375\n",
      "[(datetime.datetime(2018, 12, 16, 16, 35, 41, tzinfo=datetime.timezone.utc), 29), (datetime.datetime(2018, 12, 16, 16, 35, 17, tzinfo=datetime.timezone.utc), 51), (datetime.datetime(2018, 12, 16, 14, 54, 9, tzinfo=datetime.timezone.utc), 206), (datetime.datetime(2018, 12, 13, 15, 13, 45, tzinfo=datetime.timezone.utc), 53), (datetime.datetime(2018, 12, 10, 21, 31, 3, tzinfo=datetime.timezone.utc), 89), (datetime.datetime(2018, 12, 10, 21, 28, 39, tzinfo=datetime.timezone.utc), 60), (datetime.datetime(2018, 12, 9, 13, 16, 3, tzinfo=datetime.timezone.utc), 56), (datetime.datetime(2018, 12, 9, 12, 32, 21, tzinfo=datetime.timezone.utc), 63), (datetime.datetime(2018, 12, 9, 12, 29, 30, tzinfo=datetime.timezone.utc), 43)]\n"
     ]
    }
   ],
   "source": [
    "# csv is in poor shape, and we need to strip some newline data\n",
    "fname = \"../archive_dec16/tweets.csv\"\n",
    "cname = \"../archive_dec16/cleantweets.csv\"\n",
    "\n",
    "# how we want to clean some srings (uses reduce)\n",
    "repls = {'\\n': '', ',':''}\n",
    "\n",
    "def string_clean(text):\n",
    "    for i, j in repls.items():\n",
    "        text = text.replace(i, j)\n",
    "    return text\n",
    "\n",
    "# simple data conversion\n",
    "str2date = lambda x: datetime.strptime(x, '%Y-%m-%d %H:%M:%S %z')\n",
    "str2len = lambda x: len(x)\n",
    "\n",
    "tweet_data = []\n",
    "\n",
    "with open(fname, \"r\", encoding=\"utf8\") as input:\n",
    "    reader = csv.reader(input)\n",
    "    next(reader, None) # skip headers\n",
    "    for record in reader:\n",
    "        clean_row = tuple(string_clean(s) for s in record)\n",
    "        # in this simple example we only care for timestamp & text\n",
    "        tweet_data.append((str2date(clean_row[3]),str2len(clean_row[5])))\n",
    "        \n",
    "num_tweets = len(tweet_data)\n",
    "    \n",
    "print(num_tweets)\n",
    "print(tweet_data[1:10])"
   ]
  },
  {
   "cell_type": "markdown",
   "metadata": {},
   "source": [
    "Shape looks right. I haven't hit the 1k mark yet... and 375 might seem like a small dataset, but Im sure we gather some good insights. "
   ]
  },
  {
   "cell_type": "markdown",
   "metadata": {},
   "source": [
    "##### Transform data\n",
    "\n",
    "we need to transform the data into relevant info for this example, something like:  \n",
    "\n",
    "  <p style=\"text-align: center;\">date : <em>tweeting score</em> </p>\n",
    "  \n",
    "  tweeting score will include a total count of tweets as well as total words for the day, for now it'll just be a simple calculation\n",
    "  \n",
    "  <p style=\"text-align: center;\"><em>single day tweeting score</em> = total tweets + total words </p>"
   ]
  },
  {
   "cell_type": "code",
   "execution_count": 16,
   "metadata": {},
   "outputs": [
    {
     "name": "stdout",
     "output_type": "stream",
     "text": [
      "1877 1877\n"
     ]
    }
   ],
   "source": [
    "agg_data = {}\n",
    "\n",
    "tweet_weight = 100 # idk, act of tweeting itself should count for something\n",
    "\n",
    "# data needs to be reversed for time series\n",
    "tweet_data = tweet_data[::-1] \n",
    "\n",
    "# simple dates\n",
    "for item in tweet_data:\n",
    "    key = item[0]#.strftime('%m/%d/%Y')\n",
    "    if key in agg_data:\n",
    "        agg_data[key] = agg_data[key] + item[1] + tweet_weight\n",
    "    else:\n",
    "        agg_data[key] = item[1] + tweet_weight\n",
    "\n",
    "dates = list(agg_data.keys())\n",
    "\n",
    "# we want to add in missing days\n",
    "date_set = set(dates[0] + timedelta(x) for x in range((dates[-1] - dates[0]).days))\n",
    "\n",
    "for item in date_set:\n",
    "    key = item\n",
    "    if key not in agg_data:\n",
    "        agg_data[key] = 0\n",
    "    \n",
    "\n",
    "tscores = np.array(list(agg_data.values()))\n",
    "all_dates = np.array(list(agg_data.keys()))\n",
    "all_dates = all_dates.astype('str',copy=False)\n",
    "\n",
    "# data needs to be organized by dates\n",
    "sort_by_dates = all_dates.argsort()\n",
    "\n",
    "all_dates = all_dates[sort_by_dates]\n",
    "tscores = tscores[sort_by_dates]\n",
    "\n",
    "\n",
    "n_tscores = len(tscores)\n",
    "print(len(all_dates), len(tscores))\n",
    "\n",
    "\n"
   ]
  },
  {
   "cell_type": "markdown",
   "metadata": {},
   "source": [
    "##### Simple Visualize"
   ]
  },
  {
   "cell_type": "code",
   "execution_count": null,
   "metadata": {},
   "outputs": [
    {
     "data": {
      "text/plain": [
       "(0, 1877)"
      ]
     },
     "execution_count": 17,
     "metadata": {},
     "output_type": "execute_result"
    }
   ],
   "source": [
    "figsize(12.5, 3.5)\n",
    "\n",
    "plt.bar(all_dates, tscores, color=\"#348ABD\")\n",
    "plt.xlabel(\"Time (days)\")\n",
    "plt.ylabel(\"Tweet Score\")\n",
    "plt.title(\"Twitter Rates\")\n",
    "plt.xlim(0, n_tscores)\n"
   ]
  },
  {
   "cell_type": "code",
   "execution_count": null,
   "metadata": {},
   "outputs": [],
   "source": []
  }
 ],
 "metadata": {
  "kernelspec": {
   "display_name": "Python 3",
   "language": "python",
   "name": "python3"
  },
  "language_info": {
   "codemirror_mode": {
    "name": "ipython",
    "version": 3
   },
   "file_extension": ".py",
   "mimetype": "text/x-python",
   "name": "python",
   "nbconvert_exporter": "python",
   "pygments_lexer": "ipython3",
   "version": "3.7.0"
  }
 },
 "nbformat": 4,
 "nbformat_minor": 2
}
